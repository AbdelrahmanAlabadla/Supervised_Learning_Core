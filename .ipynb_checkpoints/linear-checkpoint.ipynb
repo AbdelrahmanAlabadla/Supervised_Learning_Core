{
 "cells": [
  {
   "cell_type": "code",
   "execution_count": 11,
   "id": "2ee91719-6393-46b1-9abe-a153ca5fd8b3",
   "metadata": {},
   "outputs": [],
   "source": [
    "import pandas as pd\n",
    "import numpy as np\n",
    "from sklearn.tree import DecisionTreeRegressor\n",
    "from sklearn.preprocessing import LabelEncoder\n",
    "from sklearn.model_selection import train_test_split\n",
    "from sklearn.metrics import mean_squared_error, r2_score\n",
    "\n",
    "from sklearn.model_selection import GridSearchCV\n",
    "\n"
   ]
  },
  {
   "cell_type": "code",
   "execution_count": 5,
   "id": "0e2c7ba2-5d3e-4f1d-a11b-3ab5ffdb5f63",
   "metadata": {
    "scrolled": true
   },
   "outputs": [
    {
     "name": "stdout",
     "output_type": "stream",
     "text": [
      "Index(['price', 'area', 'bedrooms', 'bathrooms', 'stories', 'mainroad',\n",
      "       'guestroom', 'basement', 'hotwaterheating', 'airconditioning',\n",
      "       'parking', 'prefarea', 'furnishingstatus'],\n",
      "      dtype='object')\n",
      "<bound method NDFrame.describe of         price  area  bedrooms  bathrooms  stories  ... hotwaterheating airconditioning parking prefarea furnishingstatus\n",
      "0    13300000  7420         4          2        3  ...              no             yes       2      yes        furnished\n",
      "1    12250000  8960         4          4        4  ...              no             yes       3       no        furnished\n",
      "2    12250000  9960         3          2        2  ...              no              no       2      yes   semi-furnished\n",
      "3    12215000  7500         4          2        2  ...              no             yes       3      yes        furnished\n",
      "4    11410000  7420         4          1        2  ...              no             yes       2       no        furnished\n",
      "..        ...   ...       ...        ...      ...  ...             ...             ...     ...      ...              ...\n",
      "540   1820000  3000         2          1        1  ...              no              no       2       no      unfurnished\n",
      "541   1767150  2400         3          1        1  ...              no              no       0       no   semi-furnished\n",
      "542   1750000  3620         2          1        1  ...              no              no       0       no      unfurnished\n",
      "543   1750000  2910         3          1        1  ...              no              no       0       no        furnished\n",
      "544   1750000  3850         3          1        2  ...              no              no       0       no      unfurnished\n",
      "\n",
      "[545 rows x 13 columns]>\n",
      "<bound method DataFrame.info of         price  area  bedrooms  bathrooms  stories  ... hotwaterheating airconditioning parking prefarea furnishingstatus\n",
      "0    13300000  7420         4          2        3  ...              no             yes       2      yes        furnished\n",
      "1    12250000  8960         4          4        4  ...              no             yes       3       no        furnished\n",
      "2    12250000  9960         3          2        2  ...              no              no       2      yes   semi-furnished\n",
      "3    12215000  7500         4          2        2  ...              no             yes       3      yes        furnished\n",
      "4    11410000  7420         4          1        2  ...              no             yes       2       no        furnished\n",
      "..        ...   ...       ...        ...      ...  ...             ...             ...     ...      ...              ...\n",
      "540   1820000  3000         2          1        1  ...              no              no       2       no      unfurnished\n",
      "541   1767150  2400         3          1        1  ...              no              no       0       no   semi-furnished\n",
      "542   1750000  3620         2          1        1  ...              no              no       0       no      unfurnished\n",
      "543   1750000  2910         3          1        1  ...              no              no       0       no        furnished\n",
      "544   1750000  3850         3          1        2  ...              no              no       0       no      unfurnished\n",
      "\n",
      "[545 rows x 13 columns]>\n",
      "(545, 13)\n",
      "      price  area  bedrooms  bathrooms  stories  ... hotwaterheating airconditioning parking prefarea furnishingstatus\n",
      "0  13300000  7420         4          2        3  ...              no             yes       2      yes        furnished\n",
      "1  12250000  8960         4          4        4  ...              no             yes       3       no        furnished\n",
      "2  12250000  9960         3          2        2  ...              no              no       2      yes   semi-furnished\n",
      "3  12215000  7500         4          2        2  ...              no             yes       3      yes        furnished\n",
      "4  11410000  7420         4          1        2  ...              no             yes       2       no        furnished\n",
      "\n",
      "[5 rows x 13 columns]\n",
      "price                int64\n",
      "area                 int64\n",
      "bedrooms             int64\n",
      "bathrooms            int64\n",
      "stories              int64\n",
      "mainroad            object\n",
      "guestroom           object\n",
      "basement            object\n",
      "hotwaterheating     object\n",
      "airconditioning     object\n",
      "parking              int64\n",
      "prefarea            object\n",
      "furnishingstatus    object\n",
      "dtype: object\n"
     ]
    }
   ],
   "source": [
    "df=pd.read_csv(\"Housing.csv\")\n",
    "print(df.columns)\n",
    "print(df.describe)\n",
    "print(df.info)\n",
    "print(df.shape)\n",
    "print(df.head(5))\n",
    "print(df.dtypes)\n",
    "df.columns = df.columns.str.strip()\n",
    "\n"
   ]
  },
  {
   "cell_type": "code",
   "execution_count": 13,
   "id": "d769d3a1-2984-4cfc-90ee-63c5fbf18197",
   "metadata": {},
   "outputs": [
    {
     "name": "stdout",
     "output_type": "stream",
     "text": [
      "Mean Squared Error: 2474575805922.1694\n",
      "R^2 Score: 0.5104280511870734\n"
     ]
    }
   ],
   "source": [
    "categorical_cols = ['mainroad', 'guestroom', 'basement', 'hotwaterheating',\n",
    "                    'airconditioning', 'prefarea', 'furnishingstatus']\n",
    "le=LabelEncoder()\n",
    "\n",
    "for col in categorical_cols:\n",
    "    df[col]=le.fit_transform(df[col])\n",
    "\n",
    "x=df.drop(columns=[\"price\"],axis=1)\n",
    "y=df[\"price\"] \n",
    "\n",
    "x_train,x_test,y_train,y_test=train_test_split(x,y,train_size=0.8,random_state=42)\n",
    "\n",
    "model=DecisionTreeRegressor(max_depth=5,min_samples_leaf=10,random_state=42)\n",
    "\n",
    "model.fit(x_train,y_train)\n",
    "\n",
    "y_pred=model.predict(x_test)\n",
    "mse=mean_squared_error(y_test,y_pred)\n",
    "r2=r2_score(y_test,y_pred)\n",
    "\n",
    "print(f\"Mean Squared Error: {mse}\")\n",
    "print(f\"R^2 Score: {r2}\")\n"
   ]
  },
  {
   "cell_type": "code",
   "execution_count": 12,
   "id": "49cf42d6-22eb-448f-8dca-925c7015fe2a",
   "metadata": {},
   "outputs": [
    {
     "name": "stdout",
     "output_type": "stream",
     "text": [
      "{'max_depth': 5, 'min_samples_leaf': 10}\n",
      "0.506954198276197\n"
     ]
    }
   ],
   "source": [
    "parms={'max_depth':[10,15,30,5],'min_samples_leaf':[5,10,15,1]}\n",
    "grid=GridSearchCV(DecisionTreeRegressor(random_state=42),parms,cv=3)\n",
    "grid.fit(x_train, y_train)\n",
    "\n",
    "print(grid.best_params_)\n",
    "print(grid.best_score_)"
   ]
  },
  {
   "cell_type": "code",
   "execution_count": null,
   "id": "8c93cd95-eead-4da8-b4de-1cdcb46024c7",
   "metadata": {},
   "outputs": [],
   "source": []
  }
 ],
 "metadata": {
  "kernelspec": {
   "display_name": "Python 3 (ipykernel)",
   "language": "python",
   "name": "python3"
  },
  "language_info": {
   "codemirror_mode": {
    "name": "ipython",
    "version": 3
   },
   "file_extension": ".py",
   "mimetype": "text/x-python",
   "name": "python",
   "nbconvert_exporter": "python",
   "pygments_lexer": "ipython3",
   "version": "3.11.7"
  }
 },
 "nbformat": 4,
 "nbformat_minor": 5
}
