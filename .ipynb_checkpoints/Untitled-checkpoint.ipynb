{
 "cells": [
  {
   "cell_type": "code",
   "execution_count": 2,
   "id": "2d01adce-6653-4ed7-a9d5-bd712db14534",
   "metadata": {},
   "outputs": [],
   "source": [
    "import pandas as pd\n",
    "from sklearn.tree import DecisionTreeClassifier\n",
    "from sklearn.metrics import accuracy_score\n",
    "from sklearn.preprocessing import LabelEncoder\n",
    "from sklearn.model_selection import train_test_split\n"
   ]
  },
  {
   "cell_type": "code",
   "execution_count": 7,
   "id": "c1818e45-426f-464a-95f3-7b0b0db50900",
   "metadata": {},
   "outputs": [
    {
     "name": "stdout",
     "output_type": "stream",
     "text": [
      "Test Accuracy: 0.9167701863354037\n"
     ]
    }
   ],
   "source": [
    "\n",
    "df=pd.read_csv(\"Breast_Cancer.csv\")\n",
    "\n",
    "df.columns = df.columns.str.strip()\n",
    "\n",
    "x=df.drop(columns=\"Status\",axis=1)\n",
    "y=df[\"Status\"]\n",
    "\n",
    "catagroies_cols= ['Race', 'Marital Status', 'T Stage', 'N Stage', '6th Stage',\n",
    "'differentiate', 'Grade', 'A Stage', 'Estrogen Status', 'Progesterone Status']\n",
    "\n",
    "le=LabelEncoder()\n",
    "for col in catagroies_cols:\n",
    "    x[col]=le.fit_transform(x[col])\n",
    "\n",
    "y=LabelEncoder().fit_transform(y)\n",
    "\n",
    "x_train, x_test, y_train, y_test = train_test_split(\n",
    "    x, y, test_size=0.2, random_state=42)\n",
    "model = DecisionTreeClassifier(max_depth=50, min_samples_leaf=60, random_state=42)\n",
    "model.fit(x_train, y_train)\n",
    "\n",
    "\n",
    "# 6. Make predictions on test data\n",
    "pred = model.predict(x_test)\n",
    "acc = accuracy_score(y_test, pred)\n",
    "print(\"Test Accuracy:\", acc)\n",
    "\n"
   ]
  },
  {
   "cell_type": "code",
   "execution_count": null,
   "id": "af1728c9-fbef-45aa-9978-d8e1fcdc5e15",
   "metadata": {},
   "outputs": [],
   "source": []
  }
 ],
 "metadata": {
  "kernelspec": {
   "display_name": "Python 3 (ipykernel)",
   "language": "python",
   "name": "python3"
  },
  "language_info": {
   "codemirror_mode": {
    "name": "ipython",
    "version": 3
   },
   "file_extension": ".py",
   "mimetype": "text/x-python",
   "name": "python",
   "nbconvert_exporter": "python",
   "pygments_lexer": "ipython3",
   "version": "3.11.7"
  }
 },
 "nbformat": 4,
 "nbformat_minor": 5
}
