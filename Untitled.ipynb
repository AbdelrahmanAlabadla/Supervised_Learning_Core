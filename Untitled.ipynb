{
 "cells": [
  {
   "cell_type": "code",
   "execution_count": 3,
   "id": "2d01adce-6653-4ed7-a9d5-bd712db14534",
   "metadata": {},
   "outputs": [],
   "source": [
    "import pandas as pd\n",
    "from sklearn.ensemble import RandomForestRegressor\n",
    "from sklearn.preprocessing import LabelEncoder\n",
    "from sklearn.metrics import r2_score,mean_squared_error\n",
    "from sklearn.model_selection import train_test_split\n",
    "from sklearn.model_selection import GridSearchCV\n"
   ]
  },
  {
   "cell_type": "code",
   "execution_count": 12,
   "id": "c1818e45-426f-464a-95f3-7b0b0db50900",
   "metadata": {},
   "outputs": [
    {
     "name": "stdout",
     "output_type": "stream",
     "text": [
      "{'max_depth': 10, 'min_samples_leaf': 1, 'n_estimators': 100}\n",
      "0.9977343768756657\n"
     ]
    }
   ],
   "source": [
    "\n",
    "df = pd.read_csv(\"dubai_properties.csv\")\n",
    "\n",
    "\n",
    "categorical_col=['Type', 'Furnishing', 'Frequency','Location', 'City']\n",
    "le=LabelEncoder()\n",
    "for col in categorical_col:\n",
    "    df[col]=le.fit_transform(df[col])\n",
    "\n",
    "x=df.drop(columns=['Address','Posted_date','Rent_per_sqft','Rent_category','Purpose','Latitude'\n",
    ",'Longitude'])\n",
    "y=df['Rent']\n",
    "\n",
    "x_train,x_test,y_train,y_test=train_test_split(x,y,test_size=0.2,random_state=42)\n",
    "\n",
    "model=RandomForestRegressor(max_depth=6)\n",
    "pre={\n",
    "    'max_depth':[10,15,30,5],\n",
    "    'min_samples_leaf':[5,10,15,1],\n",
    "    'n_estimators':[100,200]\n",
    "}\n",
    "grid=GridSearchCV(RandomForestRegressor(random_state=42),pre,cv=2)\n",
    "grid.fit(x_train, y_train)\n",
    "\n",
    "print(grid.best_params_)\n",
    "print(grid.best_score_)\n"
   ]
  },
  {
   "cell_type": "code",
   "execution_count": null,
   "id": "af1728c9-fbef-45aa-9978-d8e1fcdc5e15",
   "metadata": {},
   "outputs": [],
   "source": []
  }
 ],
 "metadata": {
  "kernelspec": {
   "display_name": "Python 3 (ipykernel)",
   "language": "python",
   "name": "python3"
  },
  "language_info": {
   "codemirror_mode": {
    "name": "ipython",
    "version": 3
   },
   "file_extension": ".py",
   "mimetype": "text/x-python",
   "name": "python",
   "nbconvert_exporter": "python",
   "pygments_lexer": "ipython3",
   "version": "3.11.7"
  }
 },
 "nbformat": 4,
 "nbformat_minor": 5
}
